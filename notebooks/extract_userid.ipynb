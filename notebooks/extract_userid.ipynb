{
 "cells": [
  {
   "cell_type": "markdown",
   "metadata": {},
   "source": [
    "# Converting XML data to pandas dataframe and Saving the dataframe as PostHistory.csv in processed data folder"
   ]
  },
  {
   "cell_type": "code",
   "execution_count": 59,
   "metadata": {},
   "outputs": [],
   "source": [
    "import pandas as pd\n",
    "import numpy as np"
   ]
  },
  {
   "cell_type": "code",
   "execution_count": 60,
   "metadata": {},
   "outputs": [
    {
     "name": "stdout",
     "output_type": "stream",
     "text": [
      "(25488, 8)\n",
      "(25488, 5)\n",
      "(25410, 5)\n"
     ]
    },
    {
     "data": {
      "text/html": [
       "<div>\n",
       "<style scoped>\n",
       "    .dataframe tbody tr th:only-of-type {\n",
       "        vertical-align: middle;\n",
       "    }\n",
       "\n",
       "    .dataframe tbody tr th {\n",
       "        vertical-align: top;\n",
       "    }\n",
       "\n",
       "    .dataframe thead th {\n",
       "        text-align: right;\n",
       "    }\n",
       "</style>\n",
       "<table border=\"1\" class=\"dataframe\">\n",
       "  <thead>\n",
       "    <tr style=\"text-align: right;\">\n",
       "      <th></th>\n",
       "      <th>OwnerUserId</th>\n",
       "      <th>PostTypeId</th>\n",
       "      <th>CreationDate</th>\n",
       "      <th>Score</th>\n",
       "      <th>CommentCount</th>\n",
       "    </tr>\n",
       "  </thead>\n",
       "  <tbody>\n",
       "    <tr>\n",
       "      <th>0</th>\n",
       "      <td>5</td>\n",
       "      <td>1</td>\n",
       "      <td>2014-05-13T23:58:30.457</td>\n",
       "      <td>9</td>\n",
       "      <td>1</td>\n",
       "    </tr>\n",
       "    <tr>\n",
       "      <th>1</th>\n",
       "      <td>36</td>\n",
       "      <td>1</td>\n",
       "      <td>2014-05-14T00:11:06.457</td>\n",
       "      <td>4</td>\n",
       "      <td>4</td>\n",
       "    </tr>\n",
       "    <tr>\n",
       "      <th>2</th>\n",
       "      <td>51</td>\n",
       "      <td>2</td>\n",
       "      <td>2014-05-14T00:36:31.077</td>\n",
       "      <td>5</td>\n",
       "      <td>0</td>\n",
       "    </tr>\n",
       "    <tr>\n",
       "      <th>3</th>\n",
       "      <td>22</td>\n",
       "      <td>2</td>\n",
       "      <td>2014-05-14T00:53:43.273</td>\n",
       "      <td>12</td>\n",
       "      <td>1</td>\n",
       "    </tr>\n",
       "    <tr>\n",
       "      <th>4</th>\n",
       "      <td>66</td>\n",
       "      <td>1</td>\n",
       "      <td>2014-05-14T01:25:59.677</td>\n",
       "      <td>21</td>\n",
       "      <td>1</td>\n",
       "    </tr>\n",
       "  </tbody>\n",
       "</table>\n",
       "</div>"
      ],
      "text/plain": [
       "   OwnerUserId  PostTypeId             CreationDate  Score  CommentCount\n",
       "0            5           1  2014-05-13T23:58:30.457      9             1\n",
       "1           36           1  2014-05-14T00:11:06.457      4             4\n",
       "2           51           2  2014-05-14T00:36:31.077      5             0\n",
       "3           22           2  2014-05-14T00:53:43.273     12             1\n",
       "4           66           1  2014-05-14T01:25:59.677     21             1"
      ]
     },
     "execution_count": 60,
     "metadata": {},
     "output_type": "execute_result"
    }
   ],
   "source": [
    "post_df=pd.read_csv(\"/home/kick7/Desktop/projects/sml/fp/sof_user_churn/data/processed/posts.csv\")\n",
    "\n",
    "post_df.drop(columns=['LastEditorUserId','LastEditDate','LastActivityDate'],inplace=True)\n",
    "\n",
    "post_df.dropna(inplace=True)\n",
    "\n",
    "post_df[['OwnerUserId']]=post_df[['OwnerUserId']].astype(int)\n"
   ]
  },
  {
   "cell_type": "markdown",
   "metadata": {},
   "source": [
    "# Droping complete row if NA present"
   ]
  },
  {
   "cell_type": "code",
   "execution_count": 61,
   "metadata": {},
   "outputs": [
    {
     "name": "stdout",
     "output_type": "stream",
     "text": [
      "(25410, 5)\n",
      "(25319, 6)\n"
     ]
    }
   ],
   "source": [
    "post_df['CreationDate']=pd.to_datetime(post_df['CreationDate'])\n",
    "post_df['diff'] = post_df.sort_values(['OwnerUserId','CreationDate'], ascending=[True, True]).groupby('OwnerUserId')['CreationDate'].diff()\n",
    "post_df=post_df.sort_values(['OwnerUserId', 'CreationDate'], ascending=[True, True]).reset_index(drop=True)\n",
    "post_df=post_df[post_df['OwnerUserId']!=-1].reset_index(drop=True)\n"
   ]
  },
  {
   "cell_type": "code",
   "execution_count": 62,
   "metadata": {},
   "outputs": [
    {
     "name": "stdout",
     "output_type": "stream",
     "text": [
      "   OwnerUserId  PostTypeId            CreationDate  Score  CommentCount  \\\n",
      "0            5           1 2014-05-13 23:58:30.457      9             1   \n",
      "1            9           2 2014-05-14 10:41:23.823     77             4   \n",
      "2            9           2 2014-05-15 15:06:24.600      5             0   \n",
      "3           11           2 2014-06-10 07:42:57.470      5             0   \n",
      "4           11           2 2014-10-03 16:07:30.327      4             0   \n",
      "\n",
      "                      diff  \n",
      "0          0 days 00:00:00  \n",
      "1          0 days 00:00:00  \n",
      "2   1 days 04:25:00.777000  \n",
      "3          0 days 00:00:00  \n",
      "4 115 days 08:24:32.857000  \n"
     ]
    }
   ],
   "source": [
    "post_df=post_df.fillna(0)\n",
    "print(post_df.head())"
   ]
  },
  {
   "cell_type": "code",
   "execution_count": 79,
   "metadata": {},
   "outputs": [
    {
     "name": "stdout",
     "output_type": "stream",
     "text": [
      "(25319, 6)\n",
      "<class 'pandas._libs.tslibs.timedeltas.Timedelta'>\n",
      "(14960, 7)\n"
     ]
    },
    {
     "data": {
      "text/html": [
       "<div>\n",
       "<style scoped>\n",
       "    .dataframe tbody tr th:only-of-type {\n",
       "        vertical-align: middle;\n",
       "    }\n",
       "\n",
       "    .dataframe tbody tr th {\n",
       "        vertical-align: top;\n",
       "    }\n",
       "\n",
       "    .dataframe thead th {\n",
       "        text-align: right;\n",
       "    }\n",
       "</style>\n",
       "<table border=\"1\" class=\"dataframe\">\n",
       "  <thead>\n",
       "    <tr style=\"text-align: right;\">\n",
       "      <th></th>\n",
       "      <th>index</th>\n",
       "      <th>OwnerUserId</th>\n",
       "      <th>PostTypeId</th>\n",
       "      <th>CreationDate</th>\n",
       "      <th>Score</th>\n",
       "      <th>CommentCount</th>\n",
       "      <th>diff</th>\n",
       "    </tr>\n",
       "  </thead>\n",
       "  <tbody>\n",
       "    <tr>\n",
       "      <th>0</th>\n",
       "      <td>6</td>\n",
       "      <td>14</td>\n",
       "      <td>2</td>\n",
       "      <td>2014-05-14 05:44:29.340</td>\n",
       "      <td>29</td>\n",
       "      <td>0</td>\n",
       "      <td>0 days 00:00:00</td>\n",
       "    </tr>\n",
       "    <tr>\n",
       "      <th>1</th>\n",
       "      <td>7</td>\n",
       "      <td>14</td>\n",
       "      <td>2</td>\n",
       "      <td>2014-05-14 06:26:27.163</td>\n",
       "      <td>89</td>\n",
       "      <td>9</td>\n",
       "      <td>0 days 00:41:57.823000</td>\n",
       "    </tr>\n",
       "    <tr>\n",
       "      <th>2</th>\n",
       "      <td>8</td>\n",
       "      <td>14</td>\n",
       "      <td>2</td>\n",
       "      <td>2014-05-14 22:43:23.587</td>\n",
       "      <td>4</td>\n",
       "      <td>0</td>\n",
       "      <td>0 days 16:16:56.424000</td>\n",
       "    </tr>\n",
       "    <tr>\n",
       "      <th>3</th>\n",
       "      <td>9</td>\n",
       "      <td>14</td>\n",
       "      <td>2</td>\n",
       "      <td>2014-06-10 21:50:51.347</td>\n",
       "      <td>29</td>\n",
       "      <td>0</td>\n",
       "      <td>26 days 23:07:27.760000</td>\n",
       "    </tr>\n",
       "    <tr>\n",
       "      <th>4</th>\n",
       "      <td>10</td>\n",
       "      <td>14</td>\n",
       "      <td>2</td>\n",
       "      <td>2016-10-14 01:18:50.043</td>\n",
       "      <td>2</td>\n",
       "      <td>0</td>\n",
       "      <td>856 days 03:27:58.696000</td>\n",
       "    </tr>\n",
       "  </tbody>\n",
       "</table>\n",
       "</div>"
      ],
      "text/plain": [
       "   index  OwnerUserId  PostTypeId            CreationDate  Score  \\\n",
       "0      6           14           2 2014-05-14 05:44:29.340     29   \n",
       "1      7           14           2 2014-05-14 06:26:27.163     89   \n",
       "2      8           14           2 2014-05-14 22:43:23.587      4   \n",
       "3      9           14           2 2014-06-10 21:50:51.347     29   \n",
       "4     10           14           2 2016-10-14 01:18:50.043      2   \n",
       "\n",
       "   CommentCount                     diff  \n",
       "0             0          0 days 00:00:00  \n",
       "1             9   0 days 00:41:57.823000  \n",
       "2             0   0 days 16:16:56.424000  \n",
       "3             0  26 days 23:07:27.760000  \n",
       "4             0 856 days 03:27:58.696000  "
      ]
     },
     "execution_count": 79,
     "metadata": {},
     "output_type": "execute_result"
    }
   ],
   "source": [
    "inp=3\n",
    "k=inp+1\n",
    "print(post_df.shape)\n",
    "k_df=post_df.groupby('OwnerUserId').filter(lambda x:x['CreationDate'].count()>=k)\n",
    "k_df=k_df.sort_values([\"OwnerUserId\",\"CreationDate\"]).reset_index()\n",
    "k_df['diff']=pd.to_timedelta(k_df['diff'])\n",
    "print(type(k_df['diff'][0]))\n",
    "print(k_df.shape)\n",
    "#k_df['diff']=k_df['diff'].dt.minute\n",
    "k_df.head()"
   ]
  },
  {
   "cell_type": "code",
   "execution_count": 94,
   "metadata": {},
   "outputs": [
    {
     "name": "stdout",
     "output_type": "stream",
     "text": [
      "   OwnerUserId  CommentCount            CreationDate  PostTypeId  Score  \\\n",
      "0           14             0 2014-06-10 21:50:51.347           2     29   \n",
      "1           21             3 2014-05-18 21:25:29.040           2      7   \n",
      "2           26             0 2014-05-15 07:47:44.710           2      8   \n",
      "3           53             0 2014-05-16 15:35:51.420           5      0   \n",
      "4           59             7 2014-05-27 12:07:45.920           2      8   \n",
      "\n",
      "                     diff  \n",
      "0 26 days 23:07:27.760000  \n",
      "1  3 days 07:55:24.770000  \n",
      "2  0 days 13:19:48.667000  \n",
      "3  1 days 12:16:11.060000  \n",
      "4  8 days 13:51:26.620000  \n",
      "(14960, 7)\n",
      "(81, 6)\n",
      "(546, 6)\n",
      "(1085, 6)\n",
      "627 1085 546\n"
     ]
    }
   ],
   "source": [
    "days=365/2\n",
    "l_k_df=k_df.sort_values(['OwnerUserId','CreationDate'], ascending=[True, True]).groupby('OwnerUserId').nth(k-1).reset_index()\n",
    "l_k_df.drop(columns=['index'],inplace=True)\n",
    "print(l_k_df.head())\n",
    "c_k_df=l_k_df.sort_values(['OwnerUserId','CreationDate'], ascending=[True, True]).groupby('OwnerUserId').filter(lambda x:x['diff']>=pd.to_timedelta(str(days)+' days'))\n",
    "nc_k_df=l_k_df.sort_values(['OwnerUserId','CreationDate'], ascending=[True, True]).groupby('OwnerUserId').filter(lambda x:x['diff']<pd.to_timedelta(str(days)+' days'))\n",
    "l_oc_k_df=post_df.groupby('OwnerUserId').filter(lambda x:x['CreationDate'].count()==k-1)\n",
    "oc_k_df=l_oc_k_df.sort_values(['OwnerUserId','CreationDate'], ascending=[True, True]).groupby('OwnerUserId').nth(k-2).reset_index()\n",
    "\n",
    "\n",
    "print(k_df.shape)\n",
    "print(c_k_df.shape)\n",
    "print(oc_k_df.shape)\n",
    "print(nc_k_df.shape)\n",
    "\n",
    "Churn_users= c_k_df['OwnerUserId'].tolist()\n",
    "Other_churn= oc_k_df['OwnerUserId'].tolist()\n",
    "NonChurn_users=nc_k_df['OwnerUserId'].tolist()\n",
    "Churn_users.extend(Other_churn)\n",
    "print(len(set(Churn_users)),len(set(NonChurn_users)),len(set(Other_churn)))"
   ]
  },
  {
   "cell_type": "code",
   "execution_count": null,
   "metadata": {},
   "outputs": [],
   "source": []
  }
 ],
 "metadata": {
  "kernelspec": {
   "display_name": "Python 3",
   "language": "python",
   "name": "python3"
  },
  "language_info": {
   "codemirror_mode": {
    "name": "ipython",
    "version": 3
   },
   "file_extension": ".py",
   "mimetype": "text/x-python",
   "name": "python",
   "nbconvert_exporter": "python",
   "pygments_lexer": "ipython3",
   "version": "3.6.6"
  }
 },
 "nbformat": 4,
 "nbformat_minor": 2
}
