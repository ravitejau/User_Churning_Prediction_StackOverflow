{
 "cells": [
  {
   "cell_type": "code",
   "execution_count": 32,
   "metadata": {},
   "outputs": [],
   "source": [
    "import numpy as np\n",
    "import pandas as pd\n",
    "import matplotlib.pyplot as plt"
   ]
  },
  {
   "cell_type": "code",
   "execution_count": 33,
   "metadata": {},
   "outputs": [],
   "source": [
    "post_df=pd.read_csv(\"../data/processed/posts.csv\")\n",
    "user_df=pd.read_csv(\"../data/processed/users.csv\")\n",
    "post_df.dropna(subset=['CreationDate'],inplace=True)\n",
    "\n",
    "post_df.drop(columns=['LastEditorUserId','LastEditDate','LastActivityDate','Id'],inplace=True)\n",
    "\n",
    "post_df.dropna(subset=['CreationDate','OwnerUserId'],inplace=True)\n",
    "\n",
    "post_df[['OwnerUserId']]=post_df[['OwnerUserId']].astype(int)\n",
    "\n",
    "post_df=post_df[post_df['OwnerUserId']!=-1].reset_index(drop=True)\n",
    "user_df=user_df[user_df['Id']!=-1].reset_index(drop=True)\n",
    "#print(user_df)"
   ]
  },
  {
   "cell_type": "code",
   "execution_count": 34,
   "metadata": {},
   "outputs": [],
   "source": [
    "post_oid_cd_df=post_df[['OwnerUserId','CreationDate']].copy()\n",
    "user_oid_cd_df=user_df[['Id','CreationDate']].copy()\n",
    "user_oid_cd_df.rename(mapper={'Id':'OwnerUserId'},axis=1,inplace=True)\n",
    "final_df=post_oid_cd_df.append(user_oid_cd_df, ignore_index=True)\n"
   ]
  },
  {
   "cell_type": "code",
   "execution_count": 35,
   "metadata": {},
   "outputs": [],
   "source": [
    "final_df.dropna(how='any',inplace=True)\n",
    "final_df=final_df.groupby('OwnerUserId').filter(lambda x:x['CreationDate'].count()>=2)\n",
    "final_df['CreationDate']=pd.to_datetime(final_df['CreationDate'])\n",
    "final_df['diff'] = final_df.sort_values(['OwnerUserId','CreationDate'], ascending=[True, True]).groupby('OwnerUserId')['CreationDate'].diff()\n",
    "final_df.sort_values(['OwnerUserId','CreationDate'], ascending=[True, True],inplace=True)\n"
   ]
  },
  {
   "cell_type": "code",
   "execution_count": 36,
   "metadata": {},
   "outputs": [],
   "source": [
    "df=final_df.copy()\n",
    "df.reset_index(drop=True,inplace=True)\n",
    "df.dropna(how='any',inplace=True)"
   ]
  },
  {
   "cell_type": "code",
   "execution_count": 37,
   "metadata": {},
   "outputs": [],
   "source": [
    "k=3\n",
    "lik=[i for i in range(k)]\n",
    "k_df=df.groupby('OwnerUserId').filter(lambda x:x['CreationDate'].count()>=k)\n",
    "k_df=k_df.sort_values(['OwnerUserId','CreationDate'], ascending=[True, True]).groupby('OwnerUserId').nth(lik).reset_index()\n",
    "k_df['diff']=k_df['diff']/np.timedelta64(1, 'm')\n"
   ]
  },
  {
   "cell_type": "code",
   "execution_count": 38,
   "metadata": {},
   "outputs": [],
   "source": [
    "fin_df=k_df[['OwnerUserId','diff']].copy().reset_index(drop=True)"
   ]
  },
  {
   "cell_type": "code",
   "execution_count": 39,
   "metadata": {},
   "outputs": [
    {
     "name": "stdout",
     "output_type": "stream",
     "text": [
      "                        0              1             2\n",
      "OwnerUserId                                           \n",
      "11           39382.068050  166104.547617  1.940929e+06\n",
      "14              41.963717     379.793667  9.769404e+02\n",
      "21              11.426283     781.536717  1.486153e+03\n",
      "26             108.443933     501.561450  5.160215e+02\n",
      "34            3873.325950  347053.706500  1.581795e+06\n",
      "36              16.318067    6910.978383  1.697913e+05\n",
      "53               0.000000     442.966950  1.163099e+03\n",
      "59               3.133833     626.378383  6.411663e+03\n",
      "62             128.849717     701.314833  4.265212e+04\n",
      "75               0.000000      50.242383  5.416974e+05\n",
      "(1712, 3)\n"
     ]
    }
   ],
   "source": [
    "x=fin_df.sort_values([\"OwnerUserId\",\"diff\"]).groupby('OwnerUserId')['diff'].apply(lambda df: df.reset_index(drop=True)).unstack()\n",
    "print(x.head(10))\n",
    "print(x.shape)"
   ]
  },
  {
   "cell_type": "code",
   "execution_count": null,
   "metadata": {},
   "outputs": [],
   "source": []
  }
 ],
 "metadata": {
  "kernelspec": {
   "display_name": "Python 3",
   "language": "python",
   "name": "python3"
  },
  "language_info": {
   "codemirror_mode": {
    "name": "ipython",
    "version": 3
   },
   "file_extension": ".py",
   "mimetype": "text/x-python",
   "name": "python",
   "nbconvert_exporter": "python",
   "pygments_lexer": "ipython3",
   "version": "3.6.6"
  }
 },
 "nbformat": 4,
 "nbformat_minor": 2
}
