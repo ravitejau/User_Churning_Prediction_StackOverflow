{
 "cells": [
  {
   "cell_type": "code",
   "execution_count": 2,
   "metadata": {},
   "outputs": [
    {
     "name": "stdout",
     "output_type": "stream",
     "text": [
      "0 (0, 7)\n",
      "10000 (10000, 7)\n",
      "20000 (20000, 7)\n",
      "30000 (30000, 7)\n",
      "40000 (40000, 7)\n",
      "(46189, 7)\n"
     ]
    }
   ],
   "source": [
    "import xml.etree.cElementTree as et\n",
    "import pandas as pd\n",
    " \n",
    "def getvalueofnode(node):\n",
    "    \"\"\" return node text or None \"\"\"\n",
    "    return node.text if node is not None else None\n",
    " \n",
    "\n",
    "\n",
    "def users():\n",
    "    \"\"\" Convert PostHistory.xml to pandas dataframe \"\"\"\n",
    "\n",
    "    parsed_xml = et.parse(\"/home/kick7/Desktop/projects/sml/fp/sof_user_churn/data/raw/Users.xml\")\n",
    "    dfcols = ['AccountId', 'CreationDate', 'Reputation','Views','UpVotes','DownVotes','LastAccessDate']\n",
    "    df_xml = pd.DataFrame(columns=dfcols)\n",
    "    i=0\n",
    "    for node in parsed_xml.getroot():\n",
    "        if i%10000==0:\n",
    "            print(i,df_xml.shape)\n",
    "        i+=1\n",
    "        AccountId = node.attrib.get('AccountId')\n",
    "        CreationDate = node.attrib.get('CreationDate')\n",
    "        Reputation = node.attrib.get('Reputation')\n",
    "        Views = node.attrib.get('Views')\n",
    "        UpVotes = node.attrib.get('UpVotes')\n",
    "        DownVotes = node.attrib.get('DownVotes')\n",
    "        LastAccessDate = node.attrib.get('LastAccessDate')\n",
    " \n",
    "        df_xml = df_xml.append(\n",
    "            pd.Series([AccountId, CreationDate, Reputation,\n",
    "                       Views,UpVotes,DownVotes,LastAccessDate], index=dfcols),\n",
    "            ignore_index=True)\n",
    " \n",
    "    return df_xml\n",
    " \n",
    "users_df_xml=users()\n",
    "\n",
    "users_df_xml.head()\n",
    "print(users_df_xml.shape)\n",
    "users_df_xml.to_csv(\"/home/kick7/Desktop/projects/sml/fp/sof_user_churn/data/processed/users.csv\",index=False)"
   ]
  },
  {
   "cell_type": "code",
   "execution_count": null,
   "metadata": {},
   "outputs": [],
   "source": []
  }
 ],
 "metadata": {
  "kernelspec": {
   "display_name": "Python 3",
   "language": "python",
   "name": "python3"
  },
  "language_info": {
   "codemirror_mode": {
    "name": "ipython",
    "version": 3
   },
   "file_extension": ".py",
   "mimetype": "text/x-python",
   "name": "python",
   "nbconvert_exporter": "python",
   "pygments_lexer": "ipython3",
   "version": "3.6.6"
  }
 },
 "nbformat": 4,
 "nbformat_minor": 2
}
