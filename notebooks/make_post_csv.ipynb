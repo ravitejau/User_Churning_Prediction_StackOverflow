{
 "cells": [
  {
   "cell_type": "code",
   "execution_count": 2,
   "metadata": {},
   "outputs": [
    {
     "name": "stdout",
     "output_type": "stream",
     "text": [
      "0 (0, 8)\n",
      "10000 (10000, 8)\n",
      "20000 (20000, 8)\n",
      "(25488, 8)\n"
     ]
    }
   ],
   "source": [
    "import xml.etree.cElementTree as et\n",
    "import pandas as pd\n",
    " \n",
    "def getvalueofnode(node):\n",
    "    \"\"\" return node text or None \"\"\"\n",
    "    return node.text if node is not None else None\n",
    " \n",
    "\n",
    "\n",
    "def users():\n",
    "    \"\"\" Convert PostHistory.xml to pandas dataframe \"\"\"\n",
    "\n",
    "    parsed_xml = et.parse(\"/home/kick7/Desktop/projects/sml/fp/sof_user_churn/data/raw/Posts.xml\")\n",
    "    dfcols = ['OwnerUserId','PostTypeId', 'CreationDate', 'Score','LastEditorUserId','LastEditDate','LastActivityDate','CommentCount']\n",
    "    df_xml = pd.DataFrame(columns=dfcols)\n",
    "    i=0\n",
    "    for node in parsed_xml.getroot():\n",
    "        if i%10000==0:\n",
    "            print(i,df_xml.shape)\n",
    "        i+=1\n",
    "        OwnerUserId = node.attrib.get('OwnerUserId')\n",
    "        PostTypeId = node.attrib.get('PostTypeId')\n",
    "        CreationDate = node.attrib.get('CreationDate')\n",
    "        Score = node.attrib.get('Score')\n",
    "        LastEditorUserId = node.attrib.get('LastEditorUserId')\n",
    "        LastEditDate = node.attrib.get('LastEditDate')\n",
    "        LastActivityDate = node.attrib.get('LastActivityDate')\n",
    "        CommentCount = node.attrib.get('CommentCount')\n",
    " \n",
    "        df_xml = df_xml.append(\n",
    "            pd.Series([OwnerUserId,PostTypeId, CreationDate, Score,LastEditorUserId,LastEditDate,LastActivityDate,CommentCount], index=dfcols),\n",
    "            ignore_index=True)\n",
    " \n",
    "    return df_xml\n",
    " \n",
    "posts_df_xml=users()\n",
    "posts_df_xml.to_csv(\"/home/kick7/Desktop/projects/sml/fp/sof_user_churn/data/processed/posts.csv\",index=False)"
   ]
  },
  {
   "cell_type": "code",
   "execution_count": null,
   "metadata": {},
   "outputs": [],
   "source": []
  }
 ],
 "metadata": {
  "kernelspec": {
   "display_name": "Python 3",
   "language": "python",
   "name": "python3"
  },
  "language_info": {
   "codemirror_mode": {
    "name": "ipython",
    "version": 3
   },
   "file_extension": ".py",
   "mimetype": "text/x-python",
   "name": "python",
   "nbconvert_exporter": "python",
   "pygments_lexer": "ipython3",
   "version": "3.6.6"
  }
 },
 "nbformat": 4,
 "nbformat_minor": 2
}
