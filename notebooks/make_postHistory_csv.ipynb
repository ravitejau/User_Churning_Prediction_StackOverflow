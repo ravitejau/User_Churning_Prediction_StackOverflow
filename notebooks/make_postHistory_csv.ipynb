{
 "cells": [
  {
   "cell_type": "code",
   "execution_count": null,
   "metadata": {},
   "outputs": [],
   "source": [
    "import xml.etree.cElementTree as et\n",
    "import pandas as pd\n",
    " \n",
    "def getvalueofnode(node):\n",
    "    \"\"\" return node text or None \"\"\"\n",
    "    return node.text if node is not None else None\n",
    " \n",
    "\n",
    "\n",
    "def postHistory():\n",
    "    \"\"\" Convert PostHistory.xml to pandas dataframe \"\"\"\n",
    "\n",
    "    parsed_xml = et.parse(\"/home/kick7/Desktop/projects/sml/fp/sof_user_churn/data/raw/PostHistory.xml\")\n",
    "    dfcols = ['PostId', 'UserId', 'CreationDate', 'Text']\n",
    "    df_xml = pd.DataFrame(columns=dfcols)\n",
    "    i=0\n",
    "    for node in parsed_xml.getroot():\n",
    "        if i%10000==0:\n",
    "            print(i,df_xml.shape)\n",
    "        i+=1\n",
    "        PostId = node.attrib.get('PostId')\n",
    "        UserId = node.attrib.get('UserId')\n",
    "        CreationDate = node.attrib.get('CreationDate')\n",
    "        Text = node.attrib.get('Text')\n",
    " \n",
    "        df_xml = df_xml.append(\n",
    "            pd.Series([PostId, UserId, CreationDate,\n",
    "                       Text], index=dfcols),\n",
    "            ignore_index=True)\n",
    " \n",
    "    return df_xml\n",
    " \n",
    "PostHistory_df_xml=postHistory()\n",
    "\n",
    "PostHistory_df_xml.head()\n",
    "print(PostHistory_df_xml.shape)\n",
    "PostHistory_df_xml.to_csv(\"/home/kick7/Desktop/projects/sml/fp/sof_user_churn/data/processed/PostHistory.csv\",index=False)"
   ]
  }
 ],
 "metadata": {
  "kernelspec": {
   "display_name": "Python 3",
   "language": "python",
   "name": "python3"
  },
  "language_info": {
   "codemirror_mode": {
    "name": "ipython",
    "version": 3
   },
   "file_extension": ".py",
   "mimetype": "text/x-python",
   "name": "python",
   "nbconvert_exporter": "python",
   "pygments_lexer": "ipython3",
   "version": "3.6.6"
  }
 },
 "nbformat": 4,
 "nbformat_minor": 2
}
